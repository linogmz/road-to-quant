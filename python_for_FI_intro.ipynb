{
 "cells": [
  {
   "cell_type": "code",
   "execution_count": 5,
   "id": "8d1b4ceb",
   "metadata": {},
   "outputs": [],
   "source": [
    "# 📒 Day 2 – Bond Basics & PV Calculation\n",
    "\n",
    "# Imports\n",
    "import numpy as np\n",
    "import matplotlib.pyplot as plt , yfinance as yf\n",
    "import pandas as pd\n",
    "from datetime import datetime\n",
    "from math import exp, log\n",
    "from scipy.integrate import quad\n",
    "import sympy as sp"
   ]
  },
  {
   "cell_type": "code",
   "execution_count": 49,
   "id": "33cd915d",
   "metadata": {},
   "outputs": [
    {
     "name": "stdout",
     "output_type": "stream",
     "text": [
      "Present Value: 95.24\n"
     ]
    }
   ],
   "source": [
    "# Function: Present Value of single cash flow\n",
    "def present_value(cash_flow, rate, periods):\n",
    "    return cash_flow / ((1 + rate) ** periods)\n",
    "\n",
    "# Example\n",
    "CF = 100  # Cash flow\n",
    "r = 0.05  # 5% interest rate\n",
    "n = 1     # in 1 year\n",
    "\n",
    "pv = present_value(CF, r, n)\n",
    "print(f\"Present Value: {pv:.2f}\")"
   ]
  },
  {
   "cell_type": "code",
   "execution_count": 52,
   "id": "2cc47f5e",
   "metadata": {},
   "outputs": [
    {
     "name": "stdout",
     "output_type": "stream",
     "text": [
      "Total Return Amount: $38.00\n",
      "Total Return %     : 3.92%\n",
      "38\n"
     ]
    }
   ],
   "source": [
    "# playing with functions \n",
    "\n",
    "def bond_return(face, price, coupon, years):\n",
    "    total_interest = coupon * years\n",
    "    capital_gain = face - price\n",
    "    total_return = total_interest + capital_gain\n",
    "    return_amt = total_return\n",
    "    return_pct = total_return / price * 100\n",
    "    print(f\"Total Return Amount: ${return_amt:.2f}\")\n",
    "    print(f\"Total Return %     : {return_pct:.2f}%\")\n",
    "    return return_amt\n",
    "\n",
    "test = bond_return(1000, 970, 4, 2)\n",
    "print(test)"
   ]
  },
  {
   "cell_type": "code",
   "execution_count": 8,
   "id": "0e5cacaf",
   "metadata": {},
   "outputs": [
    {
     "name": "stdout",
     "output_type": "stream",
     "text": [
      "When YTM is: 1.0%, Price is: $266.17\n",
      "When YTM is: 2.0%, Price is: $253.38\n",
      "When YTM is: 3.0%, Price is: $241.31\n",
      "When YTM is: 4.0%, Price is: $229.93\n",
      "When YTM is: 5.0%, Price is: $219.19\n",
      "When YTM is: 6.0%, Price is: $209.05\n",
      "When YTM is: 7.0%, Price is: $199.46\n",
      "When YTM is: 8.0%, Price is: $190.39\n",
      "When YTM is: 9.0%, Price is: $181.82\n",
      "When YTM is: 10.0%, Price is: $173.70\n"
     ]
    }
   ],
   "source": [
    "# playing with loops\n",
    "\n",
    "ytms = [0.01, 0.02, 0.03, 0.04, 0.05, 0.06, 0.07, 0.08, 0.09, 0.10]\n",
    "for ytm in ytms:\n",
    "    price = bond_return(face_value, market_price, annual_coupon_payment, maturity_years) / ((1 + ytm) ** maturity_years)\n",
    "    print(f\"When YTM is: {ytm*100:.1f}%, Price is: ${price:.2f}\")"
   ]
  },
  {
   "cell_type": "code",
   "execution_count": null,
   "id": "db89d212",
   "metadata": {},
   "outputs": [
    {
     "name": "stderr",
     "output_type": "stream",
     "text": [
      "[*********************100%***********************]  1 of 4 completed\n",
      "\n",
      "4 Failed downloads:\n",
      "['^FVX', '^TNX', '^IRX', '^TYX']: YFRateLimitError('Too Many Requests. Rate limited. Try after a while.')\n"
     ]
    },
    {
     "data": {
      "text/html": [
       "<div>\n",
       "<style scoped>\n",
       "    .dataframe tbody tr th:only-of-type {\n",
       "        vertical-align: middle;\n",
       "    }\n",
       "\n",
       "    .dataframe tbody tr th {\n",
       "        vertical-align: top;\n",
       "    }\n",
       "\n",
       "    .dataframe thead th {\n",
       "        text-align: right;\n",
       "    }\n",
       "</style>\n",
       "<table border=\"1\" class=\"dataframe\">\n",
       "  <thead>\n",
       "    <tr style=\"text-align: right;\">\n",
       "      <th></th>\n",
       "      <th>3M</th>\n",
       "      <th>5Y</th>\n",
       "      <th>10Y</th>\n",
       "      <th>30Y</th>\n",
       "    </tr>\n",
       "    <tr>\n",
       "      <th>Date</th>\n",
       "      <th></th>\n",
       "      <th></th>\n",
       "      <th></th>\n",
       "      <th></th>\n",
       "    </tr>\n",
       "  </thead>\n",
       "  <tbody>\n",
       "  </tbody>\n",
       "</table>\n",
       "</div>"
      ],
      "text/plain": [
       "Empty DataFrame\n",
       "Columns: [3M, 5Y, 10Y, 30Y]\n",
       "Index: []"
      ]
     },
     "execution_count": 3,
     "metadata": {},
     "output_type": "execute_result"
    },
    {
     "name": "stderr",
     "output_type": "stream",
     "text": [
      "[**********************75%***********            ]  3 of 4 completed"
     ]
    }
   ],
   "source": [
    "# importing bonds data from yfinance\n",
    "\n",
    "ticker = ['^IRX', '^FVX', '^TNX', '^TYX']  # 3M, 5Y, 10Y, 30Y Treasury\n",
    "data = yf.download(ticker, start='2023-01-01', end=datetime.now().strftime('%Y-%m-%d'))['Adj Close']\n",
    "data = data.dropna()  # Drop rows with NaN values\n",
    "data.columns = ['3M', '5Y', '10Y', '30Y']  # Rename columns for clarity\n",
    "data.head()  # Display the first few rows of the DataFrame"
   ]
  },
  {
   "cell_type": "code",
   "execution_count": 47,
   "id": "7011ab4e",
   "metadata": {},
   "outputs": [
    {
     "name": "stdout",
     "output_type": "stream",
     "text": [
      "Discount factor Z = 0.420210\n",
      "Price = 42.02\n",
      "Implied cont. yield y = 28.9000%\n"
     ]
    }
   ],
   "source": [
    "F = 100.0\n",
    "T = 3.0\n",
    "a, b = 0.28, 0.006           # r(s) = a + b*s\n",
    "\n",
    "\n",
    "integral = a*T + 0.5*b*T**2  # ∫ r(s) ds\n",
    "Z = np.exp(-integral)\n",
    "price = F * Z\n",
    "y = integral / T             # implied cont. yield\n",
    "\n",
    "print(f\"Discount factor Z = {Z:.6f}\")\n",
    "print(f\"Price = {price:.2f}\")\n",
    "print(f\"Implied cont. yield y = {y:.4%}\")"
   ]
  },
  {
   "cell_type": "code",
   "execution_count": 42,
   "id": "89720d68",
   "metadata": {},
   "outputs": [],
   "source": [
    "# Function: Discount factor for 0 coupon bond\n",
    "\n",
    "def discount_factor(r_expr, T, face_value):\n",
    "    integral = sp.integrate(r_expr, (s, 0, T))\n",
    "    Z = sp.exp(-integral)\n",
    "    P = face_value * Z\n",
    "    y = integral / T\n",
    "    print(f\"Discount factor Z = {Z:.6f}\")\n",
    "    print(f\"Price = {P:.2f}\")   \n",
    "    if hasattr(y, \"evalf\"):\n",
    "        y = float(y.evalf())\n",
    "    print(f\"Implied cont. yield y = {y:.4%}\")\n",
    "    return Z, P, y\n",
    "\n",
    "s = sp.symbols('s')"
   ]
  },
  {
   "cell_type": "code",
   "execution_count": 43,
   "id": "73e42d96",
   "metadata": {},
   "outputs": [
    {
     "name": "stdout",
     "output_type": "stream",
     "text": [
      "Discount factor Z = 0.860708\n",
      "Price = 86.07\n",
      "Implied cont. yield y = 5.0000%\n",
      "When r is constant and equals 0.05 (0.860707976425058, 86.0707976425058, 0.05000000000000001)\n",
      "---\n",
      "Discount factor Z = 0.852144\n",
      "Price = 85.21\n",
      "Implied cont. yield y = 4.0000%\n",
      "(0.852143788966211, 85.2143788966211, 0.04)\n",
      "---\n",
      "Discount factor Z = 0.929850\n",
      "Price = 92.98\n",
      "Implied cont. yield y = 3.6366%\n",
      "(0.941764533584249*exp(-0.04/pi), 94.1764533584249*exp(-0.04/pi), 0.03636619772367581)\n"
     ]
    }
   ],
   "source": [
    "#case 1: r(s) is constant\n",
    "r_const = 0.05\n",
    "print('When r is constant and equals', r_const ,discount_factor(r_const, 3, 100))\n",
    "print('---')\n",
    "\n",
    "#case 2: r(s) is linear\n",
    "r_linear = 0.028 + 0.006 * s\n",
    "print(discount_factor(r_linear, 4, 100))\n",
    "print('---')\n",
    "\n",
    "#case 3: r(s) is sinusoidal\n",
    "r_sin = 0.03 + 0.01 * sp.sin(sp.pi * s / 2)\n",
    "print(discount_factor(r_sin, 2, 100))"
   ]
  },
  {
   "cell_type": "code",
   "execution_count": 46,
   "id": "d0dea47e",
   "metadata": {},
   "outputs": [
    {
     "name": "stdout",
     "output_type": "stream",
     "text": [
      "Present Value of Coupons  : $677.08\n",
      "Present Value of Face     : $97.22\n",
      "Total Bond Price          : $774.31\n",
      "774.3055469271264\n"
     ]
    }
   ],
   "source": [
    "def bondprice(coupon, periods, rate, face_value):\n",
    "    pv_coupon = coupon * ((1 - (1/((1 + rate)**periods)))/rate) \n",
    "    pv_face = face_value/(1 + rate)**periods\n",
    "    total_price = pv_coupon + pv_face\n",
    "    \n",
    "    print(f\"Present Value of Coupons  : ${pv_coupon:,.2f}\")\n",
    "    print(f\"Present Value of Face     : ${pv_face:,.2f}\")\n",
    "    print(f\"Total Bond Price          : ${total_price:,.2f}\")\n",
    "    return total_price\n",
    "\n",
    "print(bondprice(45, 40, 0.06, 1000))  # Coupon $45, 20 years, 6% yield, $1000 face value"
   ]
  },
  {
   "cell_type": "code",
   "execution_count": null,
   "id": "135ce81e",
   "metadata": {},
   "outputs": [],
   "source": []
  }
 ],
 "metadata": {
  "kernelspec": {
   "display_name": "Python 3",
   "language": "python",
   "name": "python3"
  },
  "language_info": {
   "codemirror_mode": {
    "name": "ipython",
    "version": 3
   },
   "file_extension": ".py",
   "mimetype": "text/x-python",
   "name": "python",
   "nbconvert_exporter": "python",
   "pygments_lexer": "ipython3",
   "version": "3.13.2"
  }
 },
 "nbformat": 4,
 "nbformat_minor": 5
}
