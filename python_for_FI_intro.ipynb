{
 "cells": [
  {
   "cell_type": "code",
   "execution_count": 1,
   "id": "8d1b4ceb",
   "metadata": {},
   "outputs": [],
   "source": [
    "# 📒 Day 2 – Bond Basics & PV Calculation\n",
    "\n",
    "# Imports\n",
    "import numpy as np\n",
    "import matplotlib.pyplot as plt"
   ]
  },
  {
   "cell_type": "code",
   "execution_count": 3,
   "id": "33cd915d",
   "metadata": {},
   "outputs": [],
   "source": [
    "# Function: Present Value of single cash flow\n",
    "def present_value(cash_flow, rate, periods):\n",
    "    return cash_flow / ((1 + rate) ** periods)\n",
    "\n",
    "# Example\n",
    "CF = 100  # Cash flow\n",
    "r = 0.05  # 5% interest rate\n",
    "n = 1     # in 1 year"
   ]
  },
  {
   "cell_type": "code",
   "execution_count": 4,
   "id": "f102f17a",
   "metadata": {},
   "outputs": [
    {
     "name": "stdout",
     "output_type": "stream",
     "text": [
      "Present Value: 95.24\n"
     ]
    }
   ],
   "source": [
    "pv = present_value(CF, r, n)\n",
    "print(f\"Present Value: {pv:.2f}\")"
   ]
  },
  {
   "cell_type": "code",
   "execution_count": 4,
   "id": "1997e576",
   "metadata": {},
   "outputs": [],
   "source": [
    "face_value = 1000          # principal\n",
    "coupon_rate = 0.05         # 5%\n",
    "maturity_years = 5         # time to maturity\n",
    "market_price = 970.25      # current market price\n",
    "is_callable = False        # boolean\n",
    "bond_name = \"US 5Y Treasury\"  # string\n"
   ]
  },
  {
   "cell_type": "code",
   "execution_count": 5,
   "id": "37eeb0cb",
   "metadata": {},
   "outputs": [
    {
     "name": "stdout",
     "output_type": "stream",
     "text": [
      "Annual Coupon Payment: 50.00\n",
      "Total Interest Over 5 Years: 250.00\n"
     ]
    }
   ],
   "source": [
    "# calculate the annual coupon payment\n",
    "annual_coupon_payment = face_value * coupon_rate\n",
    "print(f\"Annual Coupon Payment: {annual_coupon_payment:.2f}\")\n",
    "\n",
    "total_interest = annual_coupon_payment * maturity_years\n",
    "print(f\"Total Interest Over {maturity_years} Years: {total_interest:.2f}\")\n"
   ]
  },
  {
   "cell_type": "code",
   "execution_count": 6,
   "id": "2cc47f5e",
   "metadata": {},
   "outputs": [
    {
     "name": "stdout",
     "output_type": "stream",
     "text": [
      "280\n"
     ]
    }
   ],
   "source": [
    "# playing with functions \n",
    "\n",
    "def bond_return(face, price, coupon, years):\n",
    "    total_interest = coupon * years\n",
    "    capital_gain = face - price\n",
    "    return total_interest + capital_gain\n",
    "\n",
    "# Example\n",
    "print(bond_return(1000, 970, 50, 5))  # 250 + 30 = 280\n"
   ]
  },
  {
   "cell_type": "code",
   "execution_count": 8,
   "id": "0e5cacaf",
   "metadata": {},
   "outputs": [
    {
     "name": "stdout",
     "output_type": "stream",
     "text": [
      "When YTM is: 1.0%, Price is: $266.17\n",
      "When YTM is: 2.0%, Price is: $253.38\n",
      "When YTM is: 3.0%, Price is: $241.31\n",
      "When YTM is: 4.0%, Price is: $229.93\n",
      "When YTM is: 5.0%, Price is: $219.19\n",
      "When YTM is: 6.0%, Price is: $209.05\n",
      "When YTM is: 7.0%, Price is: $199.46\n",
      "When YTM is: 8.0%, Price is: $190.39\n",
      "When YTM is: 9.0%, Price is: $181.82\n",
      "When YTM is: 10.0%, Price is: $173.70\n"
     ]
    }
   ],
   "source": [
    "# playing with loops\n",
    "\n",
    "ytms = [0.01, 0.02, 0.03, 0.04, 0.05, 0.06, 0.07, 0.08, 0.09, 0.10]\n",
    "for ytm in ytms:\n",
    "    price = bond_return(face_value, market_price, annual_coupon_payment, maturity_years) / ((1 + ytm) ** maturity_years)\n",
    "    print(f\"When YTM is: {ytm*100:.1f}%, Price is: ${price:.2f}\")"
   ]
  },
  {
   "cell_type": "code",
   "execution_count": null,
   "id": "db89d212",
   "metadata": {},
   "outputs": [],
   "source": []
  }
 ],
 "metadata": {
  "kernelspec": {
   "display_name": "Python 3",
   "language": "python",
   "name": "python3"
  },
  "language_info": {
   "codemirror_mode": {
    "name": "ipython",
    "version": 3
   },
   "file_extension": ".py",
   "mimetype": "text/x-python",
   "name": "python",
   "nbconvert_exporter": "python",
   "pygments_lexer": "ipython3",
   "version": "3.13.2"
  }
 },
 "nbformat": 4,
 "nbformat_minor": 5
}
